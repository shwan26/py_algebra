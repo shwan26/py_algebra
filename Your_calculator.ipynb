{
  "nbformat": 4,
  "nbformat_minor": 0,
  "metadata": {
    "colab": {
      "provenance": [],
      "collapsed_sections": [
        "fb2y2RidklSR",
        "41GvsFSEj1M9",
        "8j0cZS6MjNu6",
        "Q_IaJRyljdTE",
        "dZG7pcprkUnX",
        "mxoIcmIluaKf",
        "2I_BZns2rlKf",
        "6Xy0i5lMmo_J",
        "D-x0JNFCdgNi",
        "uw0zwudGBErL",
        "5KBLd5tcH0Tv"
      ],
      "include_colab_link": true
    },
    "kernelspec": {
      "name": "python3",
      "display_name": "Python 3"
    },
    "language_info": {
      "name": "python"
    }
  },
  "cells": [
    {
      "cell_type": "markdown",
      "metadata": {
        "id": "view-in-github",
        "colab_type": "text"
      },
      "source": [
        "<a href=\"https://colab.research.google.com/github/shwan26/py_algebra/blob/main/Your_calculator.ipynb\" target=\"_parent\"><img src=\"https://colab.research.google.com/assets/colab-badge.svg\" alt=\"Open In Colab\"/></a>"
      ]
    },
    {
      "cell_type": "markdown",
      "source": [
        "# Proportions"
      ],
      "metadata": {
        "id": "fb2y2RidklSR"
      }
    },
    {
      "cell_type": "markdown",
      "source": [
        "Set up a proportion:<br>\n",
        "$\\frac{n1}{d1}=\\frac{n2}{d2}$"
      ],
      "metadata": {
        "id": "v-0em0IOJeBX"
      }
    },
    {
      "cell_type": "code",
      "execution_count": null,
      "metadata": {
        "id": "NipG5UbBJWVd"
      },
      "outputs": [],
      "source": [
        "# Put a zero in for the unknown value\n",
        "n1 = 1\n",
        "d1 = 2\n",
        "n2 = 4\n",
        "d2 = 0\n",
        "\n",
        "if n2==0:\n",
        "    answer = d2 * n1 / d1\n",
        "    print(\"n2 = \", answer)\n",
        "\n",
        "if d2==0:\n",
        "    answer = n2 * d1 / n1\n",
        "    print(\"d2 = \", answer)\n"
      ]
    },
    {
      "cell_type": "markdown",
      "source": [
        "# Convert decimal to fraction and percent"
      ],
      "metadata": {
        "id": "41GvsFSEj1M9"
      }
    },
    {
      "cell_type": "code",
      "execution_count": null,
      "metadata": {
        "id": "pDaZckUyBKRl"
      },
      "outputs": [],
      "source": [
        "\n",
        "# Get string input, which will include a decimal point\n",
        "digits = input(\"Enter a decimal number to convert: \")\n",
        "\n",
        "# Get number of decimal places as an integer\n",
        "exponent = int(len(digits))-1\n",
        "\n",
        "# Convert the input to a float number\n",
        "n = float(digits)\n",
        "\n",
        "# Use the exponent to get the numerator\n",
        "numerator = int(n * 10**exponent)\n",
        "\n",
        "# Use the expoent to get the denominator\n",
        "denominator = 10**exponent\n",
        "\n",
        "# percent is the first two decimal places\n",
        "percent = n * 100\n",
        "\n",
        "# Output\n",
        "print(\"The decimal is \", n)\n",
        "print(\"The fraction is \", numerator, \"/\", denominator)\n",
        "print(\"The percent is \", percent, \" %\")\n",
        "\n"
      ]
    },
    {
      "cell_type": "markdown",
      "source": [
        "# Solve for x"
      ],
      "metadata": {
        "id": "8j0cZS6MjNu6"
      }
    },
    {
      "cell_type": "code",
      "source": [
        "import sympy\n",
        "from sympy import symbols\n",
        "from sympy.solvers import solve\n",
        "\n",
        "x = symbols('x')\n",
        "\n",
        "eq = input('Enter equation: 0 = ')\n",
        "\n",
        "solution = solve(eq,x)\n",
        "for s in solution:\n",
        "    print(\"x = \", s)\n",
        "\n",
        "sympy.factor(eq)"
      ],
      "metadata": {
        "id": "JAvk-AYdFj0k"
      },
      "execution_count": null,
      "outputs": []
    },
    {
      "cell_type": "markdown",
      "source": [
        "# Factor an expression"
      ],
      "metadata": {
        "id": "Q_IaJRyljdTE"
      }
    },
    {
      "cell_type": "code",
      "source": [
        "import sympy\n",
        "from sympy import *\n",
        "import math\n",
        "\n",
        "var('x y')\n",
        "\n",
        "# Equation to factor\n",
        "eq = x**3 - 2*x**2 - 5*x + 6\n",
        "\n",
        "\n",
        "sympy.factor(eq)\n"
      ],
      "metadata": {
        "id": "2JjZ1cPNPqe8"
      },
      "execution_count": null,
      "outputs": []
    },
    {
      "cell_type": "markdown",
      "source": [
        "# Solve for a variable"
      ],
      "metadata": {
        "id": "dZG7pcprkUnX"
      }
    },
    {
      "cell_type": "code",
      "execution_count": null,
      "metadata": {
        "id": "egdhbgMnYPYA"
      },
      "outputs": [],
      "source": [
        "from sympy import *\n",
        "import math\n",
        "\n",
        "# Identify all variables\n",
        "var('a b c d x')\n",
        "\n",
        "# Left and right sides of the equal sign\n",
        "left = 0\n",
        "right = a*x**2 + b*x + c\n",
        "\n",
        "# Variable to solve for\n",
        "variable = x\n",
        "\n",
        "# Sympy equation left = right\n",
        "eq1 = Eq(left,right)\n",
        "\n",
        "# Sympy solve for that variable\n",
        "sol = solve(eq1,variable)\n",
        "\n",
        "# Show factored results\n",
        "for s in sol:\n",
        "    print(variable, \" = \", s)\n"
      ]
    },
    {
      "cell_type": "markdown",
      "source": [
        "# Slope-intercept equation from two points"
      ],
      "metadata": {
        "id": "mxoIcmIluaKf"
      }
    },
    {
      "cell_type": "code",
      "source": [
        "import matplotlib.pyplot as plt\n",
        "import numpy as np\n",
        "\n",
        "x1 = 0\n",
        "y1 = 32\n",
        "x2 = 100\n",
        "y2 = 212\n",
        "\n",
        "# Develop the equation y = mx + b\n",
        "m = (y2 - y1) / (x2 - x1)\n",
        "b = y1 - m*x1\n",
        "print(\"y = \", m, \"x + \", b)\n",
        "\n",
        "# For the graph\n",
        "xmin = 0\n",
        "xmax = 10\n",
        "ymin = 0\n",
        "ymax = 500\n",
        "\n",
        "# For the line on the graph\n",
        "y3 = m*xmin + b\n",
        "y4 = m*xmax + b\n",
        "\n",
        "# Basic setup for the graph\n",
        "fig, ax = plt.subplots()\n",
        "plt.axis([xmin,xmax,ymin,ymax]) # window size\n",
        "plt.plot([xmin,xmax],[0,0],'b') # blue x axis\n",
        "plt.plot([0,0],[ymin,ymax], 'b') # blue y axis\n",
        "\n",
        "# Add details to the graph\n",
        "ax.set_xlabel(\"x values\")\n",
        "ax.set_ylabel(\"y values\")\n",
        "ax.grid(True)\n",
        "#ax.set_xticks(np.arange(xmin, xmax, 2))\n",
        "#ax.set_yticks(np.arange(ymin, ymax, 1))\n",
        "\n",
        "\n",
        "# Plot the linear function as a red line\n",
        "plt.plot([xmin,xmax],[y3,y4],'r')\n",
        "\n",
        "plt.show()\n"
      ],
      "metadata": {
        "id": "ngy3aRPTubfh"
      },
      "execution_count": null,
      "outputs": []
    },
    {
      "cell_type": "markdown",
      "source": [
        "# Graph lines and zoom in or out"
      ],
      "metadata": {
        "id": "2I_BZns2rlKf"
      }
    },
    {
      "cell_type": "code",
      "source": [
        "%matplotlib inline\n",
        "from ipywidgets import interactive\n",
        "import matplotlib.pyplot as plt\n",
        "import numpy as np\n",
        "\n",
        "# Define the graphing function\n",
        "def f(zoom):\n",
        "    xmin = -zoom\n",
        "    xmax = zoom\n",
        "    ymin = -zoom\n",
        "    ymax = zoom\n",
        "    points = 10*xmax-xmin\n",
        "    x = np.linspace(xmin, xmax, points)\n",
        "\n",
        "    fig, ax = plt.subplots()\n",
        "    plt.axis([xmin,xmax,ymin,ymax]) # window size\n",
        "    plt.plot([xmin,xmax],[0,0],'black') # black x axis\n",
        "    plt.plot([0,0],[ymin,ymax], 'black') # black y axis\n",
        "\n",
        "    # Change y1 to be any function\n",
        "    y1 = 3*x\n",
        "    plt.plot(x, y1)\n",
        "    # Plot another line here if you want\n",
        "    # y2 =\n",
        "    # plt.plot(x, y2)\n",
        "\n",
        "    ax.set_xlabel(\"x values\")\n",
        "    ax.set_ylabel(\"y values\")\n",
        "    ax.set_title(\"Some Graph\")\n",
        "    ticks = int(round((xmax-xmin)/10))\n",
        "    ax.set_xticks(np.arange(xmin, xmax, ticks))\n",
        "    ax.set_yticks(np.arange(ymin, ymax, ticks))\n",
        "    ax.grid(True)\n",
        "    plt.show()\n",
        "\n",
        "# Set up the slider\n",
        "interactive_plot = interactive(f, zoom=(1,100))\n",
        "interactive_plot\n"
      ],
      "metadata": {
        "id": "NnSlIKqKhRM-"
      },
      "execution_count": null,
      "outputs": []
    },
    {
      "cell_type": "markdown",
      "source": [
        "# Solve and graph a system equations"
      ],
      "metadata": {
        "id": "6Xy0i5lMmo_J"
      }
    },
    {
      "cell_type": "code",
      "source": [
        "from sympy import *\n",
        "from sympy.plotting import plot\n",
        "from sympy import sqrt\n",
        "\n",
        "var('x y')\n",
        "\n",
        "# First equation set equal to zero, ready to solve\n",
        "first =\n",
        "\n",
        "\n",
        "# Second equation set equal to zero, ready to solve\n",
        "second =\n",
        "\n",
        "\n",
        "# Solve - can be linear or nonlinear equations\n",
        "solution = nonlinsolve([first, second], (x, y))\n",
        "for a in range(len(solution.args)):\n",
        "    x_solution = solution.args[a][0]\n",
        "    y_solution = solution.args[a][1]\n",
        "    print(\"Solution = (\", x_solution, \",\", y_solution, \")\")\n",
        "\n",
        "# Sympy syntax for equation equal to zero, ready to factor\n",
        "y_first = Eq(first,0)\n",
        "\n",
        "# Sympy solve for y\n",
        "y1 = solve(y_first,y)\n",
        "\n",
        "# Same two steps for second equation\n",
        "y_second = Eq(second,0)\n",
        "y2 = solve(y_second,y)\n",
        "\n",
        "# Show factored results\n",
        "print(\"y = \", y1[0])\n",
        "print(\"y = \", y2[0])\n",
        "\n",
        "# Plot solution\n",
        "x = symbols('x')\n",
        "xmin = -10\n",
        "xmax = 10\n",
        "plot(y1[0], y2[0], (x,xmin,xmax))\n",
        "\n"
      ],
      "metadata": {
        "id": "E4JCVuUKjluH"
      },
      "execution_count": null,
      "outputs": []
    },
    {
      "cell_type": "code",
      "source": [],
      "metadata": {
        "id": "NCFmkX2Oqki_"
      },
      "execution_count": null,
      "outputs": []
    },
    {
      "cell_type": "markdown",
      "source": [
        "# Save graph and download image"
      ],
      "metadata": {
        "id": "D-x0JNFCdgNi"
      }
    },
    {
      "cell_type": "code",
      "source": [
        "# use this when graphing\n",
        "\n",
        "from google.colab import files\n",
        "\n",
        "# to save and output graph\n",
        "plt.savefig(\"abc.png\")\n",
        "plt.show()\n",
        "files.download(\"abc.png\")\n"
      ],
      "metadata": {
        "id": "g-uQ5QdPG4FR"
      },
      "execution_count": null,
      "outputs": []
    },
    {
      "cell_type": "markdown",
      "source": [
        "# Quadratic Functions - roots, vertext, graph"
      ],
      "metadata": {
        "id": "uw0zwudGBErL"
      }
    },
    {
      "cell_type": "code",
      "source": [
        "import matplotlib.pyplot as plt\n",
        "import numpy as np\n",
        "import math\n",
        "\n",
        "# Define the three coefficients here\n",
        "a = 12\n",
        "b = -104\n",
        "c = 160\n",
        "\n",
        "print(\"y = \", a, \"x**2 + \", b, \"x + \", c)\n",
        "\n",
        "# Vertex\n",
        "vx = -b/(2*a)\n",
        "vy = a*(vx**2) + b*vx + c\n",
        "print(\"Vertex: (\",vx,\",\",vy,\")\")\n",
        "\n",
        "# Roots\n",
        "d = b**2 - 4*a*c\n",
        "if d>=0:\n",
        "    root_1 = (-b + math.sqrt(d))/(2*a)\n",
        "    root_2 = (-b - math.sqrt(d))/(2*a)\n",
        "    print(\"Roots: x = \", root_1, \" and x = \", root_2)\n",
        "else:\n",
        "    print(\"No real roots\")\n",
        "\n",
        "xmin = -10\n",
        "xmax = 10\n",
        "ymin = -10\n",
        "ymax = 10\n",
        "points = 10*(xmax-xmin)\n",
        "x = np.linspace(xmin,xmax,points)\n",
        "\n",
        "fig, ax = plt.subplots()\n",
        "plt.axis([xmin,xmax,ymin,ymax]) # window size\n",
        "plt.plot([xmin,xmax],[0,0],'b') # blue x axis\n",
        "plt.plot([0,0],[ymin,ymax], 'b') # blue y axis\n",
        "\n",
        "# Graph the parabola\n",
        "y1 = a*x**2 + b*x + c\n",
        "plt.plot(x, y1)\n",
        "\n",
        "# Plot the vertex\n",
        "plt.plot([vx],[vy], 'ro')\n",
        "\n",
        "# Plot the roots\n",
        "plt.plot([root_1, root_2],[0,0], 'go')\n",
        "\n",
        "plt.show()"
      ],
      "metadata": {
        "id": "PSEoAi4jBJRM",
        "colab": {
          "base_uri": "https://localhost:8080/",
          "height": 335
        },
        "outputId": "04d8a1b1-ea31-4349-ac56-962565b04c38"
      },
      "execution_count": null,
      "outputs": [
        {
          "output_type": "stream",
          "name": "stdout",
          "text": [
            "y =  12 x**2 +  -104 x +  160\n",
            "Vertex: ( 4.333333333333333 , -65.33333333333331 )\n",
            "Roots: x =  6.666666666666667  and x =  2.0\n"
          ]
        },
        {
          "output_type": "display_data",
          "data": {
            "text/plain": [
              "<Figure size 640x480 with 1 Axes>"
            ],
            "image/png": "[encoded data removed]"
          },
          "metadata": {}
        }
      ]
    },
    {
      "cell_type": "markdown",
      "source": [
        "Quadratic graph with sliders"
      ],
      "metadata": {
        "id": "piYnaYfUHSUb"
      }
    },
    {
      "cell_type": "code",
      "source": [
        "%matplotlib inline\n",
        "from ipywidgets import interactive\n",
        "import matplotlib.pyplot as plt\n",
        "import numpy as np\n",
        "import math\n",
        "\n",
        "# All graphing happens in this function\n",
        "def f(a,b,c):\n",
        "    xmin = -10\n",
        "    xmax = 10\n",
        "    ymin = -10\n",
        "    ymax = 10\n",
        "    points = 10*(xmax-xmin)\n",
        "    x = np.linspace(xmin,xmax,points)\n",
        "\n",
        "    plt.axis([xmin,xmax,ymin,ymax]) # window size\n",
        "    plt.plot([xmin,xmax],[0,0],'b') # x axis\n",
        "    plt.plot([0,0],[ymin,ymax], 'b') # y axis\n",
        "\n",
        "    # Parabola\n",
        "    y1 = a*x**2 + b*x + c\n",
        "    plt.plot(x, y1)\n",
        "\n",
        "    # Vertex\n",
        "    vx = -b/(2*a)\n",
        "    vy = a*(vx**2) + b*vx + c\n",
        "    plt.plot([vx],[vy], 'ro')\n",
        "\n",
        "    # Roots\n",
        "    d = b**2 - 4*a*c\n",
        "    if d>=0:\n",
        "        root_1 = (-b + math.sqrt(d))/(2*a)\n",
        "        root_2 = (-b - math.sqrt(d))/(2*a)\n",
        "        plt.plot([root_1, root_2],[0,0], 'go')\n",
        "\n",
        "    # Set the equation as the title\n",
        "    sa = str(a)\n",
        "    sb = str(b)\n",
        "    sc = str(c)\n",
        "    h1 = \"y = \", sa, \"x**2 + \", sb, \"x + \", sc\n",
        "    h2 = \"\"\n",
        "    for w in h1:\n",
        "        h2 = h2 + w\n",
        "\n",
        "    plt.title(h2)\n",
        "    plt.show()\n",
        "\n",
        "# Interactive creates sliders for a, b, and c values\n",
        "interactive_plot = interactive(f, a=(1, 9), b=(-9,9), c=(-9,9))\n",
        "interactive_plot\n",
        "\n"
      ],
      "metadata": {
        "id": "ZXI9liy5HV4O"
      },
      "execution_count": null,
      "outputs": []
    },
    {
      "cell_type": "markdown",
      "source": [
        "# Parent graphs"
      ],
      "metadata": {
        "id": "5KBLd5tcH0Tv"
      }
    },
    {
      "cell_type": "markdown",
      "source": [
        "Notice that Python already includes some math functions, and some functions require you to `import numpy as np` to solve or graph them.<p>\n",
        "<table>\n",
        "<tr><td>Math notation</td><td> Python notation </td></tr>\n",
        "<tr><td> y = x</td><td> y = x</td></tr>\n",
        "<tr><td> y = x<sup>2</sup></td><td> y = x**2 </td></tr>\n",
        "<tr><td> y = x<sup>3</sup></td><td> y = x**3 </td></tr>\n",
        "<tr><td> y = |x|</td><td> y = abs(x) </td></tr>\n",
        "<tr><td> y =  $\\sqrt{x}$</td><td> y = np.sqrt(x) </td></tr>\n",
        "<tr><td> y = x<sup>1/3</sup></td><td> y = np.cbrt(x) </td></tr>\n",
        "<tr><td> y = $\\lfloor x \\rfloor$</td><td> y = np.floor(x) </td></tr>\n",
        "<tr><td> y = 2<sup>x</sup></td><td> y = 2**x </td></tr>\n",
        "<tr><td> y = e<sup>x</sup></td><td> y = math.e**2 </td></tr>\n",
        "<tr><td> y = ln(x)</td><td> y = np.log(x) </td></tr>\n",
        "<tr><td> y = log<sub>2</sub>(x)</td><td> y = np.log2(x) </td></tr>\n",
        "<tr><td> y = log(x)</td><td> y = np.log10(x) </td></tr>"
      ],
      "metadata": {
        "id": "9kC2WgK5H53R"
      }
    },
    {
      "cell_type": "markdown",
      "source": [
        "# Compound interest calculator\n",
        "\n"
      ],
      "metadata": {
        "id": "jwmoBnzCl_33"
      }
    },
    {
      "cell_type": "markdown",
      "source": [
        "When the compunding happens <i>n</i> times per year:<br>\n",
        "Annuity = P(1 +  $\\frac{r}{n})^{nt}$<p>\n",
        "When the growth is continuous: <br>\n",
        "Annuity = Pe<sup>rt</sup>"
      ],
      "metadata": {
        "id": "Azavu_4iBfOy"
      }
    },
    {
      "cell_type": "code",
      "source": [
        "import math\n",
        "\n",
        "# Change these variables\n",
        "p = 1\n",
        "r = .01\n",
        "t = 1\n",
        "n = 1\n",
        "\n",
        "n_times = p*(1+(r/n))**(n*t)\n",
        "continuous = p*math.e**(r*t)\n",
        "\n",
        "print(\"Annuity when compounded \", n, \" times per year = \", n_times)\n",
        "print(\"Annuity when compounded continuously = \", continuous)\n",
        "\n"
      ],
      "metadata": {
        "id": "J4HK9Vo_jsKG"
      },
      "execution_count": null,
      "outputs": []
    },
    {
      "cell_type": "markdown",
      "source": [
        "# Investment annuity estimator\n",
        "\n"
      ],
      "metadata": {
        "id": "kRoj56Y5jlJP"
      }
    },
    {
      "cell_type": "markdown",
      "source": [
        "Calculte the value in a retirement account, given regular monthly contributions and an estimated rate of increase"
      ],
      "metadata": {
        "id": "0wLqHasmBnm1"
      }
    },
    {
      "cell_type": "code",
      "source": [
        "# Change these variables\n",
        "p = 1000\n",
        "r = .08\n",
        "t = 38\n",
        "monthly = 350\n",
        "\n",
        "# The loop will update this variable\n",
        "annuity = p\n",
        "\n",
        "# loop for contribution and percent growth\n",
        "for a in range(12*t):\n",
        "    annuity = (annuity+monthly)*(1+(r/12))\n",
        "\n",
        "print(\"annuity = \", round(annuity, 2))\n",
        "print(\"Annual income from interest = \", round(annuity*r, 2))\n"
      ],
      "metadata": {
        "id": "7TopuYcfmPCp"
      },
      "execution_count": null,
      "outputs": []
    },
    {
      "cell_type": "markdown",
      "source": [
        "# Mortgage payment calculator\n"
      ],
      "metadata": {
        "id": "-80VOHy7je5N"
      }
    },
    {
      "cell_type": "markdown",
      "source": [
        "Mortgage payment formula:<p>\n",
        "monthly payment = P$\\frac{\\frac{r}{12}(1 + \\frac{r}{12})^{12t}}{(1 + \\frac{r}{12})^{12t} - 1}$\n"
      ],
      "metadata": {
        "id": "6DPNJR5qByPE"
      }
    },
    {
      "cell_type": "code",
      "source": [
        "# Change these values\n",
        "p = 300000\n",
        "r = .08\n",
        "t = 30\n",
        "\n",
        "# Break down that formula into parts\n",
        "numerator = (r/12)*(1+(r/12))**(12*t)\n",
        "denominator = (1+(r/12))**(12*t) - 1\n",
        "payment = round(p*numerator/denominator, 2)\n",
        "\n",
        "print(\"monthly payment = \", payment)"
      ],
      "metadata": {
        "id": "MlBJG8kxjiug",
        "outputId": "f4855a1e-2d9b-4f2d-df48-2f84dd8cb860",
        "colab": {
          "base_uri": "https://localhost:8080/"
        }
      },
      "execution_count": null,
      "outputs": [
        {
          "output_type": "stream",
          "name": "stdout",
          "text": [
            "monthly payment =  2201.29\n"
          ]
        }
      ]
    },
    {
      "cell_type": "markdown",
      "source": [
        "# Graphing data from a table"
      ],
      "metadata": {
        "id": "VnDUk4x7mTi7"
      }
    },
    {
      "cell_type": "markdown",
      "source": [
        "This code will give you the imports you need, and you will see several ways to get a .csv file from other sources. comment out the code you don't need. Run this once, then you can run the next code cell several times."
      ],
      "metadata": {
        "id": "QrhrLlFFNij7"
      }
    },
    {
      "cell_type": "code",
      "source": [
        "import pandas as pd\n",
        "import matplotlib.pyplot as plt\n",
        "from google.colab import files\n",
        "import io\n",
        "\n",
        "# dialog to upload from computer:\n",
        "# uploaded = files.upload()\n",
        "# file_name = next(iter(uploaded))\n",
        "# table_1 = pd.read_csv(io.BytesIO(uploaded[file_name]))\n",
        "\n",
        "# example url:\n",
        "url = \"https://people.sc.fsu.edu/~jburkardt/data/csv/faithful.csv\"\n",
        "\n",
        "# Dialog to input a url\n",
        "# url = input(\"URL of the csv: \")\n",
        "table_1 = pd.read_csv(url)\n",
        "\n"
      ],
      "metadata": {
        "id": "Z8L5PwALNlZc"
      },
      "execution_count": null,
      "outputs": []
    },
    {
      "cell_type": "markdown",
      "source": [
        "This code will grab data from columns in a table and convert them to arrays to graph. This example uses data related to the Old Fatithful geyser. Run this, modify it, and look for patterns."
      ],
      "metadata": {
        "id": "N_mXRMeZPimV"
      }
    },
    {
      "cell_type": "code",
      "source": [
        "# Get the headers\n",
        "print(table_1.head())\n",
        "\n",
        "# Describe is also a good feature\n",
        "# table_1[' \"Eruption length (mins)\"'].describe()\n",
        "# table_1['Index'].describe()\n",
        "\n",
        "# Convert values to numpy arrays to graph\n",
        "x = table_1['Index'].to_numpy()\n",
        "y = table_1[' \"Eruption length (mins)\"'].to_numpy()\n",
        "\n",
        "# Graph dimensions\n",
        "xmin = x.min() - 5\n",
        "xmax = x.max() + 5\n",
        "ymin = y.min() - 5\n",
        "ymax = y.max() + 5\n",
        "\n",
        "fig, ax = plt.subplots()\n",
        "plt.axis([xmin,xmax,ymin,ymax]) # window size\n",
        "plt.plot([xmin,xmax],[0,0],'b') # blue x axis\n",
        "plt.plot([0,0],[ymin,ymax], 'b') # blue y axis\n",
        "plt.plot(x,y,'ro') # make it scatterplot or line graph\n",
        "plt.show()\n"
      ],
      "metadata": {
        "id": "3ngt284BPqOV"
      },
      "execution_count": null,
      "outputs": []
    },
    {
      "cell_type": "markdown",
      "source": [
        "#Add your own formulas"
      ],
      "metadata": {
        "id": "4qWvtvxzFtaZ"
      }
    }
  ]
}